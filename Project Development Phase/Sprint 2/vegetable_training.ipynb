{
 "cells": [
  {
   "cell_type": "code",
   "execution_count": 10,
   "metadata": {},
   "outputs": [],
   "source": [
    "from keras.preprocessing.image import ImageDataGenerator"
   ]
  },
  {
   "cell_type": "code",
   "execution_count": 11,
   "metadata": {},
   "outputs": [],
   "source": [
    "train_datagen = ImageDataGenerator (rescale = 1./255, shear_range= 0.2,zoom_range= 0.2, horizontal_flip = True)\n",
    "test_datagen =ImageDataGenerator (rescale = 1)"
   ]
  },
  {
   "cell_type": "code",
   "execution_count": 12,
   "metadata": {},
   "outputs": [
    {
     "name": "stdout",
     "output_type": "stream",
     "text": [
      "Found 11386 images belonging to 9 classes.\n",
      "Found 3416 images belonging to 9 classes.\n"
     ]
    }
   ],
   "source": [
    "x_train = train_datagen.flow_from_directory(r'D:\\IBM Project\\Dataset Plant Disease\\Veg-dataset\\Veg-dataset\\train_set',target_size = (128,128), batch_size = 32, class_mode = 'categorical')\n",
    "x_test = test_datagen.flow_from_directory(r\"D:\\IBM Project\\Dataset Plant Disease\\Veg-dataset\\Veg-dataset\\test_set\",target_size = (128,128), batch_size = 32, class_mode = 'categorical')"
   ]
  },
  {
   "cell_type": "code",
   "execution_count": 13,
   "metadata": {},
   "outputs": [],
   "source": [
    "from keras.models  import Sequential\n",
    "from keras. layers import Dense\n",
    "from keras. layers import Convolution2D\n",
    "from keras. layers import MaxPooling2D\n",
    "from keras. layers import Flatten"
   ]
  },
  {
   "cell_type": "code",
   "execution_count": 14,
   "metadata": {},
   "outputs": [],
   "source": [
    "model = Sequential()"
   ]
  },
  {
   "cell_type": "code",
   "execution_count": 15,
   "metadata": {},
   "outputs": [],
   "source": [
    "model.add(Convolution2D(32,(3,3),input_shape = (128,128,3),activation = 'relu'))"
   ]
  },
  {
   "cell_type": "code",
   "execution_count": 16,
   "metadata": {},
   "outputs": [],
   "source": [
    "model.add(MaxPooling2D(pool_size = (2,2)))\n",
    "model.add(Flatten())"
   ]
  },
  {
   "cell_type": "code",
   "execution_count": 19,
   "metadata": {},
   "outputs": [],
   "source": [
    "model.add(Dense(units = 300 ,kernel_initializer = 'uniform',activation = 'relu'))\n",
    "model.add(Dense(units = 150 ,kernel_initializer = 'uniform',activation = 'relu'))\n",
    "model.add(Dense(units = 75 ,kernel_initializer = 'uniform',activation = 'relu'))\n",
    "model.add(Dense(units=9,activation = 'softmax',kernel_initializer='uniform'))"
   ]
  },
  {
   "cell_type": "code",
   "execution_count": 20,
   "metadata": {},
   "outputs": [],
   "source": [
    "model.compile(loss='categorical_crossentropy',optimizer='adam',metrics=['accuracy'])"
   ]
  },
  {
   "cell_type": "code",
   "execution_count": 21,
   "metadata": {},
   "outputs": [
    {
     "name": "stderr",
     "output_type": "stream",
     "text": [
      "c:\\users\\admin\\appdata\\local\\programs\\python\\python37\\lib\\site-packages\\ipykernel_launcher.py:1: UserWarning: `Model.fit_generator` is deprecated and will be removed in a future version. Please use `Model.fit`, which supports generators.\n",
      "  \"\"\"Entry point for launching an IPython kernel.\n"
     ]
    },
    {
     "name": "stdout",
     "output_type": "stream",
     "text": [
      "Epoch 1/20\n",
      "89/89 [==============================] - 103s 1s/step - loss: 2.1117 - accuracy: 0.1696 - val_loss: 70.3806 - val_accuracy: 0.1725\n",
      "Epoch 2/20\n",
      "89/89 [==============================] - 86s 963ms/step - loss: 2.0657 - accuracy: 0.1643 - val_loss: 3.9882 - val_accuracy: 0.1956\n",
      "Epoch 3/20\n",
      "89/89 [==============================] - 78s 878ms/step - loss: 1.9408 - accuracy: 0.1963 - val_loss: 327.7483 - val_accuracy: 0.1713\n",
      "Epoch 4/20\n",
      "89/89 [==============================] - 78s 873ms/step - loss: 1.8632 - accuracy: 0.2458 - val_loss: 193.7507 - val_accuracy: 0.1458\n",
      "Epoch 5/20\n",
      "89/89 [==============================] - 67s 748ms/step - loss: 1.7114 - accuracy: 0.2985 - val_loss: 474.0082 - val_accuracy: 0.1123\n",
      "Epoch 6/20\n",
      "89/89 [==============================] - 61s 687ms/step - loss: 1.6360 - accuracy: 0.3828 - val_loss: 900.7995 - val_accuracy: 0.1019\n",
      "Epoch 7/20\n",
      "89/89 [==============================] - 60s 673ms/step - loss: 1.4413 - accuracy: 0.4405 - val_loss: 956.8090 - val_accuracy: 0.1238\n",
      "Epoch 8/20\n",
      "89/89 [==============================] - 58s 652ms/step - loss: 1.3224 - accuracy: 0.4807 - val_loss: 767.8612 - val_accuracy: 0.2060\n",
      "Epoch 9/20\n",
      "89/89 [==============================] - 92s 1s/step - loss: 1.2804 - accuracy: 0.5070 - val_loss: 1451.7456 - val_accuracy: 0.1285\n",
      "Epoch 10/20\n",
      "89/89 [==============================] - 67s 749ms/step - loss: 1.1975 - accuracy: 0.5316 - val_loss: 1856.7976 - val_accuracy: 0.1204\n",
      "Epoch 11/20\n",
      "89/89 [==============================] - 62s 691ms/step - loss: 1.1131 - accuracy: 0.5650 - val_loss: 2614.7327 - val_accuracy: 0.1296\n",
      "Epoch 12/20\n",
      "89/89 [==============================] - 66s 742ms/step - loss: 1.0556 - accuracy: 0.6029 - val_loss: 1930.5756 - val_accuracy: 0.1516\n",
      "Epoch 13/20\n",
      "89/89 [==============================] - 65s 732ms/step - loss: 0.9796 - accuracy: 0.6284 - val_loss: 2023.1448 - val_accuracy: 0.1736\n",
      "Epoch 14/20\n",
      "89/89 [==============================] - 62s 691ms/step - loss: 0.9481 - accuracy: 0.6534 - val_loss: 2787.9265 - val_accuracy: 0.1389\n",
      "Epoch 15/20\n",
      "89/89 [==============================] - 57s 642ms/step - loss: 0.9216 - accuracy: 0.6692 - val_loss: 2814.1494 - val_accuracy: 0.1725\n",
      "Epoch 16/20\n",
      "89/89 [==============================] - 57s 643ms/step - loss: 0.8572 - accuracy: 0.6801 - val_loss: 2470.7942 - val_accuracy: 0.1296\n",
      "Epoch 17/20\n",
      "89/89 [==============================] - 63s 710ms/step - loss: 0.7772 - accuracy: 0.7224 - val_loss: 2791.2097 - val_accuracy: 0.1400\n",
      "Epoch 18/20\n",
      "89/89 [==============================] - 61s 686ms/step - loss: 0.7446 - accuracy: 0.7416 - val_loss: 2821.5747 - val_accuracy: 0.1944\n",
      "Epoch 19/20\n",
      "89/89 [==============================] - 61s 683ms/step - loss: 0.6661 - accuracy: 0.7697 - val_loss: 1876.1503 - val_accuracy: 0.3125\n",
      "Epoch 20/20\n",
      "89/89 [==============================] - 61s 689ms/step - loss: 0.6336 - accuracy: 0.7777 - val_loss: 2576.0593 - val_accuracy: 0.2951\n"
     ]
    },
    {
     "data": {
      "text/plain": [
       "<keras.callbacks.History at 0x1ebf7780d48>"
      ]
     },
     "execution_count": 21,
     "metadata": {},
     "output_type": "execute_result"
    }
   ],
   "source": [
    "model.fit_generator(x_train,steps_per_epoch=89,epochs=20,validation_data=x_test,validation_steps=27)"
   ]
  },
  {
   "cell_type": "code",
   "execution_count": 22,
   "metadata": {},
   "outputs": [],
   "source": [
    "model.save('vegetable.h5')"
   ]
  },
  {
   "cell_type": "code",
   "execution_count": null,
   "metadata": {},
   "outputs": [],
   "source": []
  }
 ],
 "metadata": {
  "kernelspec": {
   "display_name": "Python 3",
   "language": "python",
   "name": "python3"
  },
  "language_info": {
   "codemirror_mode": {
    "name": "ipython",
    "version": 3
   },
   "file_extension": ".py",
   "mimetype": "text/x-python",
   "name": "python",
   "nbconvert_exporter": "python",
   "pygments_lexer": "ipython3",
   "version": "3.7.4"
  }
 },
 "nbformat": 4,
 "nbformat_minor": 4
}
